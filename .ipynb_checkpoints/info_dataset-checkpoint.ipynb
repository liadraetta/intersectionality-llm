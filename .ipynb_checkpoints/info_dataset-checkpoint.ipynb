{
 "cells": [
  {
   "cell_type": "markdown",
   "metadata": {},
   "source": [
    " # SBIC\n"
   ]
  },
  {
   "cell_type": "code",
   "metadata": {
    "ExecuteTime": {
     "end_time": "2025-05-16T11:16:58.023950Z",
     "start_time": "2025-05-16T11:16:58.013657Z"
    }
   },
   "source": [
    "import pandas as pd\n",
    "import numpy as np"
   ],
   "outputs": [
    {
     "ename": "ModuleNotFoundError",
     "evalue": "No module named 'pandas'",
     "output_type": "error",
     "traceback": [
      "\u001B[0;31m---------------------------------------------------------------------------\u001B[0m",
      "\u001B[0;31mModuleNotFoundError\u001B[0m                       Traceback (most recent call last)",
      "Cell \u001B[0;32mIn[9], line 1\u001B[0m\n\u001B[0;32m----> 1\u001B[0m \u001B[38;5;28;01mimport\u001B[39;00m\u001B[38;5;250m \u001B[39m\u001B[38;5;21;01mpandas\u001B[39;00m\u001B[38;5;250m \u001B[39m\u001B[38;5;28;01mas\u001B[39;00m\u001B[38;5;250m \u001B[39m\u001B[38;5;21;01mpd\u001B[39;00m\n\u001B[1;32m      2\u001B[0m \u001B[38;5;28;01mimport\u001B[39;00m\u001B[38;5;250m \u001B[39m\u001B[38;5;21;01mnumpy\u001B[39;00m\u001B[38;5;250m \u001B[39m\u001B[38;5;28;01mas\u001B[39;00m\u001B[38;5;250m \u001B[39m\u001B[38;5;21;01mnp\u001B[39;00m\n",
      "\u001B[0;31mModuleNotFoundError\u001B[0m: No module named 'pandas'"
     ]
    }
   ],
   "execution_count": 9
  },
  {
   "cell_type": "code",
   "metadata": {
    "ExecuteTime": {
     "end_time": "2025-05-16T10:59:12.184921Z",
     "start_time": "2025-05-16T10:59:12.001714Z"
    }
   },
   "source": [
    "train = pd.read_csv(\"data/SBIC.v2/SBIC.v2.trn.csv\")\n",
    "dev = pd.read_csv(\"data/SBIC.v2/SBIC.v2.dev.csv\")\n",
    "test = pd.read_csv(\"data/SBIC.v2/SBIC.v2.tst.csv\")"
   ],
   "outputs": [
    {
     "ename": "NameError",
     "evalue": "name 'pd' is not defined",
     "output_type": "error",
     "traceback": [
      "\u001B[0;31m---------------------------------------------------------------------------\u001B[0m",
      "\u001B[0;31mNameError\u001B[0m                                 Traceback (most recent call last)",
      "Cell \u001B[0;32mIn[1], line 1\u001B[0m\n\u001B[0;32m----> 1\u001B[0m train \u001B[38;5;241m=\u001B[39m \u001B[43mpd\u001B[49m\u001B[38;5;241m.\u001B[39mread_csv(\u001B[38;5;124m\"\u001B[39m\u001B[38;5;124mdata/SBIC.v2/SBIC.v2.trn.csv\u001B[39m\u001B[38;5;124m\"\u001B[39m)\n\u001B[1;32m      2\u001B[0m dev \u001B[38;5;241m=\u001B[39m pd\u001B[38;5;241m.\u001B[39mread_csv(\u001B[38;5;124m\"\u001B[39m\u001B[38;5;124mdata/SBIC.v2/SBIC.v2.dev.csv\u001B[39m\u001B[38;5;124m\"\u001B[39m)\n\u001B[1;32m      3\u001B[0m test \u001B[38;5;241m=\u001B[39m pd\u001B[38;5;241m.\u001B[39mread_csv(\u001B[38;5;124m\"\u001B[39m\u001B[38;5;124mdata/SBIC.v2/SBIC.v2.tst.csv\u001B[39m\u001B[38;5;124m\"\u001B[39m)\n",
      "\u001B[0;31mNameError\u001B[0m: name 'pd' is not defined"
     ]
    }
   ],
   "execution_count": 1
  },
  {
   "cell_type": "code",
   "execution_count": 3,
   "metadata": {},
   "outputs": [
    {
     "name": "stdout",
     "output_type": "stream",
     "text": [
      "(112900, 19) (16738, 19) (17501, 19)\n"
     ]
    }
   ],
   "source": [
    "print(train.shape, dev.shape, test.shape)"
   ]
  },
  {
   "cell_type": "code",
   "execution_count": 15,
   "metadata": {},
   "outputs": [
    {
     "data": {
      "text/plain": [
       "Index(['whoTarget', 'intentYN', 'sexYN', 'sexReason', 'offensiveYN',\n",
       "       'annotatorGender', 'annotatorMinority', 'sexPhrase',\n",
       "       'speakerMinorityYN', 'WorkerId', 'HITId', 'annotatorPolitics',\n",
       "       'annotatorRace', 'annotatorAge', 'post', 'targetMinority',\n",
       "       'targetCategory', 'targetStereotype', 'dataSource'],\n",
       "      dtype='object')"
      ]
     },
     "execution_count": 15,
     "metadata": {},
     "output_type": "execute_result"
    }
   ],
   "source": [
    "df.columns"
   ]
  },
  {
   "cell_type": "markdown",
   "metadata": {},
   "source": [
    "Label: \n",
    "- _offensiveYN_: could the post be offensive to anyone \n",
    "\n",
    "\n",
    "\n",
    "Demographics annotators: \n",
    "- _annotatorGender_: gender of the MTurk worker \n",
    "- _annotatorMinority_: whether the MTurk worker identifies as a minority\n",
    "- _annotatorPolitics_: political leaning of the MTurk worker\n",
    "- _annotatorRace_: race of the MTurk worker\n",
    "- _annotatorAge_: age of the MTurk worker"
   ]
  },
  {
   "cell_type": "code",
   "execution_count": 4,
   "metadata": {},
   "outputs": [],
   "source": [
    "df = pd.concat([train,dev,test], axis=0)\n",
    "# unfiltered_df = pd.concat([train,dev,test], axis=0)\n",
    "# df = unfiltered_df[(unfiltered_df['annotatorAge'] >= 26) & (unfiltered_df['annotatorAge'] <= 46)]"
   ]
  },
  {
   "cell_type": "code",
   "execution_count": 5,
   "metadata": {},
   "outputs": [
    {
     "name": "stdout",
     "output_type": "stream",
     "text": [
      "number of texts:  45318\n",
      "number of annotators:  307\n"
     ]
    }
   ],
   "source": [
    "print(\"number of texts: \", len(df[\"HITId\"].unique()))\n",
    "print(\"number of annotators: \", len(df[\"WorkerId\"].unique()))"
   ]
  },
  {
   "cell_type": "code",
   "execution_count": 6,
   "metadata": {},
   "outputs": [
    {
     "name": "stdout",
     "output_type": "stream",
     "text": [
      "Label distribution\n",
      "offensiveYN\n",
      "1.0    74211\n",
      "0.0    57909\n",
      "0.5    12529\n",
      "Name: count, dtype: int64\n"
     ]
    }
   ],
   "source": [
    "print(\"Label distribution\")\n",
    "print(df[\"offensiveYN\"].value_counts())"
   ]
  },
  {
   "cell_type": "code",
   "execution_count": 7,
   "metadata": {},
   "outputs": [],
   "source": [
    "df_demographics = df[[\"WorkerId\", \"annotatorGender\", \"annotatorMinority\", \n",
    "                      \"annotatorPolitics\", \"annotatorRace\", \"annotatorAge\"]]\n",
    "\n",
    "df_demographics = df_demographics.drop_duplicates(subset=\"WorkerId\")"
   ]
  },
  {
   "cell_type": "code",
   "execution_count": 8,
   "metadata": {},
   "outputs": [
    {
     "name": "stdout",
     "output_type": "stream",
     "text": [
      "annotatorGender\n",
      "woman        169\n",
      "man          129\n",
      "na             5\n",
      "transman       2\n",
      "nonBinary      2\n",
      "Name: count, dtype: int64\n",
      "\n",
      " -------------------------------------------------- \n",
      "\n",
      "\n",
      "annotatorMinority\n",
      "none                                                  11\n",
      "women                                                  8\n",
      "no                                                     3\n",
      "Asian                                                  3\n",
      "Women                                                  2\n",
      "                                                      ..\n",
      "White                                                  1\n",
      "women, lower class                                     1\n",
      "Black, non-binary, disabled, Muslim, working-class     1\n",
      "No I do not                                            1\n",
      "immigrants, and veterans                               1\n",
      "Name: count, Length: 67, dtype: int64\n",
      "\n",
      " -------------------------------------------------- \n",
      "\n",
      "\n",
      "annotatorPolitics\n",
      "liberal        137\n",
      "mod-liberal     57\n",
      "mod-cons        36\n",
      "other           29\n",
      "cons            26\n",
      "na              12\n",
      "libert          10\n",
      "Name: count, dtype: int64\n",
      "\n",
      " -------------------------------------------------- \n",
      "\n",
      "\n",
      "annotatorRace\n",
      "white     252\n",
      "asian      13\n",
      "hisp       12\n",
      "black      12\n",
      "other      10\n",
      "na          6\n",
      "native      2\n",
      "Name: count, dtype: int64\n",
      "\n",
      " -------------------------------------------------- \n",
      "\n",
      "\n"
     ]
    }
   ],
   "source": [
    "traits = [\"annotatorGender\", \"annotatorMinority\",\"annotatorPolitics\", \"annotatorRace\"]\n",
    "\n",
    "for i in traits: \n",
    "    print(df_demographics[i].value_counts())\n",
    "    print(\"\\n\", \"-\"*50, \"\\n\")\n",
    "    print()"
   ]
  },
  {
   "cell_type": "code",
   "execution_count": 9,
   "metadata": {},
   "outputs": [
    {
     "name": "stdout",
     "output_type": "stream",
     "text": [
      "19.0\n",
      "100.0\n"
     ]
    }
   ],
   "source": [
    "print(min(df_demographics[\"annotatorAge\"].tolist()))\n",
    "print(max(df_demographics[\"annotatorAge\"].tolist()))"
   ]
  },
  {
   "metadata": {},
   "cell_type": "code",
   "outputs": [],
   "execution_count": null,
   "source": [
    "annotators_politics = df[\"annotatorPolitics\"]\n",
    "print(annotators_politics)"
   ]
  },
  {
   "cell_type": "code",
   "execution_count": 10,
   "metadata": {},
   "outputs": [],
   "source": [
    "# texts_by_100yo = df[df['annotatorAge'] == 100]['HITId'].nunique()\n",
    "# texts_by_100yo"
   ]
  },
  {
   "cell_type": "code",
   "execution_count": 11,
   "metadata": {},
   "outputs": [],
   "source": [
    "# annotations_by_100yo = df[df['annotatorAge'] == 100].groupby('WorkerId').size()\n",
    "# print(annotations_by_100yo)"
   ]
  },
  {
   "cell_type": "code",
   "execution_count": 12,
   "metadata": {},
   "outputs": [],
   "source": [
    "def statistics_df(df, column_name):\n",
    "  df2 = df.pivot_table(index = [column_name], aggfunc ='size')\n",
    "\n",
    "  d = df2.to_dict()\n",
    "\n",
    "  l_n_annotations = []\n",
    "  for k,v in d.items():\n",
    "    l_n_annotations.append(v)\n",
    "\n",
    "  print(\"minimum of annotations: \",min(l_n_annotations))\n",
    "  print(\"maximum of annotations: \",max(l_n_annotations))\n",
    "  print(\"mean of annotations: \",np.average(l_n_annotations))\n",
    "  print(\"median of annotations: \",np.median(l_n_annotations))\n",
    "\n",
    "  return d"
   ]
  },
  {
   "cell_type": "code",
   "execution_count": 13,
   "metadata": {},
   "outputs": [
    {
     "name": "stdout",
     "output_type": "stream",
     "text": [
      "Annotator level\n",
      "minimum of annotations:  1\n",
      "maximum of annotations:  4698\n",
      "mean of annotations:  479.28013029315963\n",
      "median of annotations:  20.0\n"
     ]
    }
   ],
   "source": [
    "print(\"Annotator level\")\n",
    "d_annotator = statistics_df(df, \"WorkerId\")"
   ]
  },
  {
   "cell_type": "code",
   "execution_count": 14,
   "metadata": {},
   "outputs": [
    {
     "name": "stdout",
     "output_type": "stream",
     "text": [
      "Annotation level\n",
      "minimum of annotations:  1\n",
      "maximum of annotations:  20\n",
      "mean of annotations:  3.2468114215102166\n",
      "median of annotations:  3.0\n"
     ]
    }
   ],
   "source": [
    "print(\"Annotation level\")\n",
    "d_annotation = statistics_df(df, \"HITId\")"
   ]
  },
  {
   "cell_type": "code",
   "execution_count": 25,
   "metadata": {},
   "outputs": [
    {
     "name": "stdout",
     "output_type": "stream",
     "text": [
      "subset lenght:  1\n",
      "[('Race',), ('Gender',), ('Politics',), ('Age',)]\n",
      "subset lenght:  2\n",
      "[('Race', 'Gender'), ('Race', 'Politics'), ('Race', 'Age'), ('Gender', 'Politics'), ('Gender', 'Age'), ('Politics', 'Age')]\n",
      "subset lenght:  3\n",
      "[('Race', 'Gender', 'Politics'), ('Race', 'Gender', 'Age'), ('Race', 'Politics', 'Age'), ('Gender', 'Politics', 'Age')]\n",
      "subset lenght:  4\n",
      "[('Race', 'Gender', 'Politics', 'Age')]\n"
     ]
    }
   ],
   "source": [
    "from itertools import combinations\n",
    "list_traits = [\"Race\", \"Gender\", \"Politics\", \"Age\"]\n",
    "\n",
    "for r in range(1,len(list_traits)+1):\n",
    "    print(\"subset lenght: \", r)\n",
    "    print(list(combinations(list_traits, r)))\n"
   ]
  },
  {
   "cell_type": "markdown",
   "metadata": {},
   "source": [
    "# MHS"
   ]
  },
  {
   "cell_type": "code",
   "execution_count": 16,
   "metadata": {},
   "outputs": [
    {
     "name": "stderr",
     "output_type": "stream",
     "text": [
      "/home/marem/.pyenv/versions/3.11.10/lib/python3.11/site-packages/tqdm/auto.py:21: TqdmWarning: IProgress not found. Please update jupyter and ipywidgets. See https://ipywidgets.readthedocs.io/en/stable/user_install.html\n",
      "  from .autonotebook import tqdm as notebook_tqdm\n"
     ]
    }
   ],
   "source": [
    "from datasets import load_dataset\n",
    "\n",
    "ds = load_dataset(\"ucberkeley-dlab/measuring-hate-speech\")"
   ]
  },
  {
   "cell_type": "code",
   "execution_count": 19,
   "metadata": {},
   "outputs": [],
   "source": [
    "dataset = ds[\"train\"]"
   ]
  },
  {
   "cell_type": "code",
   "execution_count": 20,
   "metadata": {},
   "outputs": [],
   "source": [
    "df = dataset.to_pandas()"
   ]
  },
  {
   "cell_type": "code",
   "execution_count": 22,
   "metadata": {},
   "outputs": [
    {
     "data": {
      "text/plain": [
       "Index(['comment_id', 'annotator_id', 'platform', 'sentiment', 'respect',\n",
       "       'insult', 'humiliate', 'status', 'dehumanize', 'violence',\n",
       "       ...\n",
       "       'annotator_religion_hindu', 'annotator_religion_jewish',\n",
       "       'annotator_religion_mormon', 'annotator_religion_muslim',\n",
       "       'annotator_religion_nothing', 'annotator_religion_other',\n",
       "       'annotator_sexuality_bisexual', 'annotator_sexuality_gay',\n",
       "       'annotator_sexuality_straight', 'annotator_sexuality_other'],\n",
       "      dtype='object', length=131)"
      ]
     },
     "execution_count": 22,
     "metadata": {},
     "output_type": "execute_result"
    }
   ],
   "source": [
    "df.columns"
   ]
  },
  {
   "cell_type": "code",
   "execution_count": null,
   "metadata": {},
   "outputs": [],
   "source": []
  }
 ],
 "metadata": {
  "kernelspec": {
   "display_name": "3.11.10",
   "language": "python",
   "name": "python3"
  },
  "language_info": {
   "codemirror_mode": {
    "name": "ipython",
    "version": 3
   },
   "file_extension": ".py",
   "mimetype": "text/x-python",
   "name": "python",
   "nbconvert_exporter": "python",
   "pygments_lexer": "ipython3",
   "version": "3.11.10"
  }
 },
 "nbformat": 4,
 "nbformat_minor": 2
}
