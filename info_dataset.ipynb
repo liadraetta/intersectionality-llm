{
 "cells": [
  {
   "cell_type": "markdown",
   "metadata": {},
   "source": [
    " # SBIC\n"
   ]
  },
  {
   "cell_type": "markdown",
   "metadata": {},
   "source": []
  },
  {
   "cell_type": "code",
   "execution_count": 1,
   "metadata": {
    "ExecuteTime": {
     "end_time": "2025-05-16T11:37:12.397778Z",
     "start_time": "2025-05-16T11:37:12.395241Z"
    }
   },
   "outputs": [
    {
     "name": "stdout",
     "output_type": "stream",
     "text": [
      "/Users/liadraetta/PycharmProjects/pythonProject2/.venv/bin/python\n"
     ]
    }
   ],
   "source": [
    "import sys\n",
    "print(sys.executable)\n"
   ]
  },
  {
   "cell_type": "code",
   "execution_count": 2,
   "metadata": {
    "ExecuteTime": {
     "end_time": "2025-05-16T11:39:28.640637Z",
     "start_time": "2025-05-16T11:39:28.468525Z"
    }
   },
   "outputs": [],
   "source": [
    "import pandas as pd\n",
    "import numpy as np"
   ]
  },
  {
   "cell_type": "code",
   "execution_count": 3,
   "metadata": {
    "ExecuteTime": {
     "end_time": "2025-05-16T11:33:12.842799Z",
     "start_time": "2025-05-16T11:33:12.826052Z"
    }
   },
   "outputs": [],
   "source": [
    "train = pd.read_csv(\"data/SBIC.v2/SBIC.v2.trn.csv\")\n",
    "dev = pd.read_csv(\"data/SBIC.v2/SBIC.v2.dev.csv\")\n",
    "test = pd.read_csv(\"data/SBIC.v2/SBIC.v2.tst.csv\")"
   ]
  },
  {
   "cell_type": "code",
   "execution_count": 4,
   "metadata": {},
   "outputs": [
    {
     "name": "stdout",
     "output_type": "stream",
     "text": [
      "(112900, 19) (16738, 19) (17501, 19)\n"
     ]
    }
   ],
   "source": [
    "print(train.shape, dev.shape, test.shape)"
   ]
  },
  {
   "cell_type": "code",
   "execution_count": 5,
   "metadata": {},
   "outputs": [
    {
     "ename": "NameError",
     "evalue": "name 'df' is not defined",
     "output_type": "error",
     "traceback": [
      "\u001b[0;31m---------------------------------------------------------------------------\u001b[0m",
      "\u001b[0;31mNameError\u001b[0m                                 Traceback (most recent call last)",
      "Cell \u001b[0;32mIn[5], line 1\u001b[0m\n\u001b[0;32m----> 1\u001b[0m \u001b[43mdf\u001b[49m\u001b[38;5;241m.\u001b[39mcolumns\n",
      "\u001b[0;31mNameError\u001b[0m: name 'df' is not defined"
     ]
    }
   ],
   "source": [
    "df.columns"
   ]
  },
  {
   "cell_type": "markdown",
   "metadata": {},
   "source": [
    "Label: \n",
    "- _offensiveYN_: could the post be offensive to anyone \n",
    "\n",
    "\n",
    "\n",
    "Demographics annotators: \n",
    "- _annotatorGender_: gender of the MTurk worker \n",
    "- _annotatorMinority_: whether the MTurk worker identifies as a minority\n",
    "- _annotatorPolitics_: political leaning of the MTurk worker\n",
    "- _annotatorRace_: race of the MTurk worker\n",
    "- _annotatorAge_: age of the MTurk worker"
   ]
  },
  {
   "cell_type": "code",
   "execution_count": 8,
   "metadata": {},
   "outputs": [],
   "source": [
    "df = pd.concat([train,dev,test], axis=0)\n",
    "# unfiltered_df = pd.concat([train,dev,test], axis=0)\n",
    "# df = unfiltered_df[(unfiltered_df['annotatorAge'] >= 26) & (unfiltered_df['annotatorAge'] <= 46)]"
   ]
  },
  {
   "cell_type": "code",
   "execution_count": null,
   "metadata": {},
   "outputs": [],
   "source": [
    "print(\"number of texts: \", len(df[\"HITId\"].unique()))\n",
    "print(\"number of annotators: \", len(df[\"WorkerId\"].unique()))"
   ]
  },
  {
   "cell_type": "code",
   "execution_count": 9,
   "metadata": {},
   "outputs": [
    {
     "name": "stdout",
     "output_type": "stream",
     "text": [
      "Label distribution\n",
      "offensiveYN\n",
      "1.0    74211\n",
      "0.0    57909\n",
      "0.5    12529\n",
      "Name: count, dtype: int64\n"
     ]
    }
   ],
   "source": [
    "print(\"Label distribution\")\n",
    "print(df[\"offensiveYN\"].value_counts())"
   ]
  },
  {
   "cell_type": "code",
   "execution_count": 10,
   "metadata": {},
   "outputs": [],
   "source": [
    "df_demographics = df[[\"WorkerId\", \"annotatorGender\", \"annotatorMinority\", \n",
    "                      \"annotatorPolitics\", \"annotatorRace\", \"annotatorAge\"]]\n",
    "\n",
    "df_demographics = df_demographics.drop_duplicates(subset=\"WorkerId\")"
   ]
  },
  {
   "cell_type": "code",
   "execution_count": 7,
   "metadata": {},
   "outputs": [
    {
     "name": "stdout",
     "output_type": "stream",
     "text": [
      "annotatorGender\n",
      "woman        169\n",
      "man          129\n",
      "na             5\n",
      "transman       2\n",
      "nonBinary      2\n",
      "Name: count, dtype: int64\n",
      "\n",
      " -------------------------------------------------- \n",
      "\n",
      "\n",
      "annotatorMinority\n",
      "none                             11\n",
      "women                             8\n",
      "Asian                             3\n",
      "no                                3\n",
      "No.                               2\n",
      "                                 ..\n",
      "Female, mentally ill, poverty     1\n",
      "women, disabled                   1\n",
      "white, male                       1\n",
      "woman, asian                      1\n",
      "immigrants, and veterans          1\n",
      "Name: count, Length: 67, dtype: int64\n",
      "\n",
      " -------------------------------------------------- \n",
      "\n",
      "\n",
      "annotatorPolitics\n",
      "liberal        137\n",
      "mod-liberal     57\n",
      "mod-cons        36\n",
      "other           29\n",
      "cons            26\n",
      "na              12\n",
      "libert          10\n",
      "Name: count, dtype: int64\n",
      "\n",
      " -------------------------------------------------- \n",
      "\n",
      "\n",
      "annotatorRace\n",
      "white     252\n",
      "asian      13\n",
      "hisp       12\n",
      "black      12\n",
      "other      10\n",
      "na          6\n",
      "native      2\n",
      "Name: count, dtype: int64\n",
      "\n",
      " -------------------------------------------------- \n",
      "\n",
      "\n",
      "annotatorPolitics\n",
      "liberal        137\n",
      "mod-liberal     57\n",
      "mod-cons        36\n",
      "other           29\n",
      "cons            26\n",
      "na              12\n",
      "libert          10\n",
      "Name: count, dtype: int64\n",
      "\n",
      " -------------------------------------------------- \n",
      "\n",
      "\n"
     ]
    }
   ],
   "source": [
    "traits = [\"annotatorGender\", \"annotatorMinority\",\"annotatorPolitics\", \"annotatorRace\", \"annotatorPolitics\"]\n",
    "\n",
    "for i in traits: \n",
    "    print(df_demographics[i].value_counts())\n",
    "    print(\"\\n\", \"-\"*50, \"\\n\")\n",
    "    print()"
   ]
  },
  {
   "cell_type": "code",
   "execution_count": 9,
   "metadata": {},
   "outputs": [
    {
     "name": "stdout",
     "output_type": "stream",
     "text": [
      "19.0\n",
      "100.0\n"
     ]
    }
   ],
   "source": [
    "print(min(df_demographics[\"annotatorAge\"].tolist()))\n",
    "print(max(df_demographics[\"annotatorAge\"].tolist()))"
   ]
  },
  {
   "cell_type": "code",
   "execution_count": null,
   "metadata": {},
   "outputs": [],
   "source": [
    "annotators_politics = df[\"annotatorPolitics\"]\n",
    "print(annotators_politics)"
   ]
  },
  {
   "cell_type": "code",
   "execution_count": 10,
   "metadata": {},
   "outputs": [],
   "source": [
    "# texts_by_100yo = df[df['annotatorAge'] == 100]['HITId'].nunique()\n",
    "# texts_by_100yo"
   ]
  },
  {
   "cell_type": "code",
   "execution_count": 11,
   "metadata": {},
   "outputs": [],
   "source": [
    "# annotations_by_100yo = df[df['annotatorAge'] == 100].groupby('WorkerId').size()\n",
    "# print(annotations_by_100yo)"
   ]
  },
  {
   "cell_type": "code",
   "execution_count": 12,
   "metadata": {},
   "outputs": [],
   "source": [
    "def statistics_df(df, column_name):\n",
    "  df2 = df.pivot_table(index = [column_name], aggfunc ='size')\n",
    "\n",
    "  d = df2.to_dict()\n",
    "\n",
    "  l_n_annotations = []\n",
    "  for k,v in d.items():\n",
    "    l_n_annotations.append(v)\n",
    "\n",
    "  print(\"minimum of annotations: \",min(l_n_annotations))\n",
    "  print(\"maximum of annotations: \",max(l_n_annotations))\n",
    "  print(\"mean of annotations: \",np.average(l_n_annotations))\n",
    "  print(\"median of annotations: \",np.median(l_n_annotations))\n",
    "\n",
    "  return d"
   ]
  },
  {
   "cell_type": "code",
   "execution_count": 13,
   "metadata": {},
   "outputs": [
    {
     "name": "stdout",
     "output_type": "stream",
     "text": [
      "Annotator level\n",
      "minimum of annotations:  1\n",
      "maximum of annotations:  4698\n",
      "mean of annotations:  479.28013029315963\n",
      "median of annotations:  20.0\n"
     ]
    }
   ],
   "source": [
    "print(\"Annotator level\")\n",
    "d_annotator = statistics_df(df, \"WorkerId\")"
   ]
  },
  {
   "cell_type": "code",
   "execution_count": 14,
   "metadata": {},
   "outputs": [
    {
     "name": "stdout",
     "output_type": "stream",
     "text": [
      "Annotation level\n",
      "minimum of annotations:  1\n",
      "maximum of annotations:  20\n",
      "mean of annotations:  3.2468114215102166\n",
      "median of annotations:  3.0\n"
     ]
    }
   ],
   "source": [
    "print(\"Annotation level\")\n",
    "d_annotation = statistics_df(df, \"HITId\")"
   ]
  },
  {
   "cell_type": "code",
   "execution_count": 25,
   "metadata": {},
   "outputs": [
    {
     "name": "stdout",
     "output_type": "stream",
     "text": [
      "subset lenght:  1\n",
      "[('Race',), ('Gender',), ('Politics',), ('Age',)]\n",
      "subset lenght:  2\n",
      "[('Race', 'Gender'), ('Race', 'Politics'), ('Race', 'Age'), ('Gender', 'Politics'), ('Gender', 'Age'), ('Politics', 'Age')]\n",
      "subset lenght:  3\n",
      "[('Race', 'Gender', 'Politics'), ('Race', 'Gender', 'Age'), ('Race', 'Politics', 'Age'), ('Gender', 'Politics', 'Age')]\n",
      "subset lenght:  4\n",
      "[('Race', 'Gender', 'Politics', 'Age')]\n"
     ]
    }
   ],
   "source": [
    "from itertools import combinations\n",
    "list_traits = [\"Race\", \"Gender\", \"Politics\", \"Age\"]\n",
    "\n",
    "for r in range(1,len(list_traits)+1):\n",
    "    print(\"subset lenght: \", r)\n",
    "    print(list(combinations(list_traits, r)))\n"
   ]
  },
  {
   "cell_type": "markdown",
   "metadata": {},
   "source": [
    "# MHS"
   ]
  },
  {
   "cell_type": "code",
   "execution_count": 16,
   "metadata": {},
   "outputs": [
    {
     "name": "stderr",
     "output_type": "stream",
     "text": [
      "/home/marem/.pyenv/versions/3.11.10/lib/python3.11/site-packages/tqdm/auto.py:21: TqdmWarning: IProgress not found. Please update jupyter and ipywidgets. See https://ipywidgets.readthedocs.io/en/stable/user_install.html\n",
      "  from .autonotebook import tqdm as notebook_tqdm\n"
     ]
    }
   ],
   "source": [
    "from datasets import load_dataset\n",
    "\n",
    "ds = load_dataset(\"ucberkeley-dlab/measuring-hate-speech\")"
   ]
  },
  {
   "cell_type": "code",
   "execution_count": 19,
   "metadata": {},
   "outputs": [],
   "source": [
    "dataset = ds[\"train\"]"
   ]
  },
  {
   "cell_type": "code",
   "execution_count": 20,
   "metadata": {},
   "outputs": [],
   "source": [
    "df = dataset.to_pandas()"
   ]
  },
  {
   "cell_type": "code",
   "execution_count": 22,
   "metadata": {},
   "outputs": [
    {
     "data": {
      "text/plain": [
       "Index(['comment_id', 'annotator_id', 'platform', 'sentiment', 'respect',\n",
       "       'insult', 'humiliate', 'status', 'dehumanize', 'violence',\n",
       "       ...\n",
       "       'annotator_religion_hindu', 'annotator_religion_jewish',\n",
       "       'annotator_religion_mormon', 'annotator_religion_muslim',\n",
       "       'annotator_religion_nothing', 'annotator_religion_other',\n",
       "       'annotator_sexuality_bisexual', 'annotator_sexuality_gay',\n",
       "       'annotator_sexuality_straight', 'annotator_sexuality_other'],\n",
       "      dtype='object', length=131)"
      ]
     },
     "execution_count": 22,
     "metadata": {},
     "output_type": "execute_result"
    }
   ],
   "source": [
    "df.columns"
   ]
  },
  {
   "cell_type": "code",
   "execution_count": 20,
   "metadata": {},
   "outputs": [
    {
     "name": "stdout",
     "output_type": "stream",
     "text": [
      "       whoTarget  intentYN  sexYN sexReason  offensiveYN annotatorGender  \\\n",
      "90818        NaN      0.00    0.0       NaN          0.0             man   \n",
      "15789        NaN      0.00    0.0       NaN          0.0             man   \n",
      "9246         1.0      1.00    0.0       NaN          1.0             man   \n",
      "1201         NaN      0.00    0.0       NaN          0.0           woman   \n",
      "26500        NaN      0.00    0.0       NaN          0.0           woman   \n",
      "...          ...       ...    ...       ...          ...             ...   \n",
      "7703         0.0      1.00    0.0       NaN          1.0             man   \n",
      "16289        NaN      0.00    0.0       NaN          0.0             man   \n",
      "73737        1.0      1.00    0.0       NaN          1.0           woman   \n",
      "2030         0.0      0.33    0.0       NaN          0.5           woman   \n",
      "9220         1.0      1.00    0.0       NaN          1.0           woman   \n",
      "\n",
      "                annotatorMinority sexPhrase  speakerMinorityYN  \\\n",
      "90818                         NaN       NaN                NaN   \n",
      "15789                         NaN       NaN                NaN   \n",
      "9246                          NaN       NaN                0.0   \n",
      "1201                          NaN       NaN                NaN   \n",
      "26500                        none       NaN                NaN   \n",
      "...                           ...       ...                ...   \n",
      "7703                          NaN       NaN                NaN   \n",
      "16289                         NaN       NaN                NaN   \n",
      "73737                       women       NaN                0.0   \n",
      "2030   Hispanic, female, bisexual       NaN                NaN   \n",
      "9220                          NaN       NaN                0.0   \n",
      "\n",
      "                  WorkerId                           HITId annotatorPolitics  \\\n",
      "90818 -7713443391178782699  3IQ9O0AYW6T20ZOLCO14EURHST0TI5       mod-liberal   \n",
      "15789 -7353159578349448466  3SCKNODZ0XA7G225W1BVE6VGPV5N75       mod-liberal   \n",
      "9246  -5870881806826799680  3R868ACW4S6KQKRPSSQJF6FIWGCZGN           liberal   \n",
      "1201    955703508749055793  3PZDSVZ3J5BAXFKMU3DOBUB6WXW4NP           liberal   \n",
      "26500 -7214361523799359328  3OYHVNTV5TSDT291GA0HX007IBAOKW       mod-liberal   \n",
      "...                    ...                             ...               ...   \n",
      "7703   3014462452121555470  30F94FBDNRESDRAF6E9NS7N4UTMBTX       mod-liberal   \n",
      "16289 -7713443391178782699  39O0SQZVJN1SV0UXP8SCNQ0QPWU7RK       mod-liberal   \n",
      "73737 -6837958490067487319  30ZKOOGW2W0MLXTEYHPHRQK3FMLA1M           liberal   \n",
      "2030  -1074131302321565002  3APP19WN718I2A7EQNT8I8MNSC06GP       mod-liberal   \n",
      "9220   8789702980570783632  3BC9H1KCYU6GIG7KBBSIN2S4J09WYI             other   \n",
      "\n",
      "      annotatorRace  annotatorAge  \\\n",
      "90818         white          27.0   \n",
      "15789         white          32.0   \n",
      "9246          white          35.0   \n",
      "1201          asian          23.0   \n",
      "26500         white          48.0   \n",
      "...             ...           ...   \n",
      "7703          white          38.0   \n",
      "16289         white          27.0   \n",
      "73737         white          34.0   \n",
      "2030           hisp          29.0   \n",
      "9220           hisp          27.0   \n",
      "\n",
      "                                                    post  \\\n",
      "90818  Freedom of speech is essential to the progress...   \n",
      "15789  I assume you went to the High Caliber gun show...   \n",
      "9246   \"RT @_JamesHumble: \"\"Guys can be assholes but ...   \n",
      "1201   Sometimes I feel like Duche bag calls to the c...   \n",
      "26500  Went to work at 530.... Only got paid for work...   \n",
      "...                                                  ...   \n",
      "7703   What's the similarity with beating my children...   \n",
      "16289  When YOUR power seems insufficient, GOD'S powe...   \n",
      "73737  q : what did the blind , deaf , mute quadraple...   \n",
      "2030   \"you're too young for that1!1!!11!\"\" and i jus...   \n",
      "9220   Y'all ever just live more than 6 years to flex...   \n",
      "\n",
      "                  targetMinority targetCategory  \\\n",
      "90818                        NaN            NaN   \n",
      "15789                        NaN            NaN   \n",
      "9246                       women         gender   \n",
      "1201                         NaN            NaN   \n",
      "26500                        NaN            NaN   \n",
      "...                          ...            ...   \n",
      "7703                         NaN            NaN   \n",
      "16289                        NaN            NaN   \n",
      "73737  physically disabled folks       disabled   \n",
      "2030                         NaN            NaN   \n",
      "9220                   ethiopens           race   \n",
      "\n",
      "                            targetStereotype   dataSource  \n",
      "90818                                    NaN          Gab  \n",
      "15789                                    NaN   Stormfront  \n",
      "9246                women are worse than men     t/founta  \n",
      "1201                                     NaN     t/founta  \n",
      "26500                                    NaN     t/founta  \n",
      "...                                      ...          ...  \n",
      "7703                                     NaN  r/darkjokes  \n",
      "16289                                    NaN     t/founta  \n",
      "73737  disabled people are the butt of jokes  r/meanjokes  \n",
      "2030                                     NaN     t/founta  \n",
      "9220                      ehtiopens are poor  r/darkjokes  \n",
      "\n",
      "[100 rows x 19 columns]\n"
     ]
    }
   ],
   "source": [
    "#Creo un subset per provare prompt\n",
    "df_subset = df.sample(n=100, random_state=42) \n",
    "print(df_subset)\n",
    "\n",
    "#df_subset.to_csv('subset_100.csv', index=False)"
   ]
  },
  {
   "cell_type": "code",
   "execution_count": 37,
   "metadata": {},
   "outputs": [
    {
     "name": "stdout",
     "output_type": "stream",
     "text": [
      "                                HITId  \\\n",
      "90818  3IQ9O0AYW6T20ZOLCO14EURHST0TI5   \n",
      "15789  3SCKNODZ0XA7G225W1BVE6VGPV5N75   \n",
      "9246   3R868ACW4S6KQKRPSSQJF6FIWGCZGN   \n",
      "1201   3PZDSVZ3J5BAXFKMU3DOBUB6WXW4NP   \n",
      "26500  3OYHVNTV5TSDT291GA0HX007IBAOKW   \n",
      "\n",
      "                                                    post  \n",
      "90818  Freedom of speech is essential to the progress...  \n",
      "15789  I assume you went to the High Caliber gun show...  \n",
      "9246   \"RT @_JamesHumble: \"\"Guys can be assholes but ...  \n",
      "1201   Sometimes I feel like Duche bag calls to the c...  \n",
      "26500  Went to work at 530.... Only got paid for work...  \n"
     ]
    }
   ],
   "source": [
    "columns_to_drop = ['targetMinority',\t'targetCategory',\t'targetStereotype',\t'dataSource','whoTarget',\t'sexYN', 'sexReason', 'sexPhrase','annotatorPolitics',\t'annotatorRace','annotatorAge', 'intentYN', 'offensiveYN', 'annotatorGender', 'annotatorMinority', 'speakerMinorityYN', 'WorkerId']  # Replace with your actual column names\n",
    "df_subset_cleaned = df_subset.drop(columns=columns_to_drop)\n",
    "print(df_subset_cleaned.head(5))\n",
    "df_subset_cleaned.to_csv('subset_100_cleaned.csv', index=False)"
   ]
  },
  {
   "cell_type": "code",
   "execution_count": null,
   "metadata": {},
   "outputs": [],
   "source": []
  }
 ],
 "metadata": {
  "kernelspec": {
   "display_name": "Python 3 (ipykernel)",
   "language": "python",
   "name": "python3"
  },
  "language_info": {
   "codemirror_mode": {
    "name": "ipython",
    "version": 3
   },
   "file_extension": ".py",
   "mimetype": "text/x-python",
   "name": "python",
   "nbconvert_exporter": "python",
   "pygments_lexer": "ipython3",
   "version": "3.9.6"
  }
 },
 "nbformat": 4,
 "nbformat_minor": 4
}
